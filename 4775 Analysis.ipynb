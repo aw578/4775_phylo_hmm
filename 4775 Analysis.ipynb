{
 "cells": [
  {
   "cell_type": "code",
   "execution_count": 2,
   "id": "b0bfb229",
   "metadata": {},
   "outputs": [],
   "source": [
    "import glob\n",
    "import matplotlib.pyplot as plt\n",
    "import pandas as pd"
   ]
  },
  {
   "cell_type": "code",
   "execution_count": 3,
   "id": "6cdb786a",
   "metadata": {},
   "outputs": [
    {
     "ename": "FileNotFoundError",
     "evalue": "[Errno 2] No such file or directory: 'strain 17 annotations/17-cn.fasta'",
     "output_type": "error",
     "traceback": [
      "\u001b[1;31m---------------------------------------------------------------------------\u001b[0m",
      "\u001b[1;31mFileNotFoundError\u001b[0m                         Traceback (most recent call last)",
      "\u001b[1;32mc:\\Users\\tinca\\Desktop\\cs 4775\\final\\4775 Analysis.ipynb Cell 2\u001b[0m in \u001b[0;36m<cell line: 28>\u001b[1;34m()\u001b[0m\n\u001b[0;32m     <a href='vscode-notebook-cell:/c%3A/Users/tinca/Desktop/cs%204775/final/4775%20Analysis.ipynb#W1sZmlsZQ%3D%3D?line=24'>25</a>\u001b[0m msa_lines \u001b[39m=\u001b[39m []\n\u001b[0;32m     <a href='vscode-notebook-cell:/c%3A/Users/tinca/Desktop/cs%204775/final/4775%20Analysis.ipynb#W1sZmlsZQ%3D%3D?line=26'>27</a>\u001b[0m \u001b[39m# Populating gt_lines\u001b[39;00m\n\u001b[1;32m---> <a href='vscode-notebook-cell:/c%3A/Users/tinca/Desktop/cs%204775/final/4775%20Analysis.ipynb#W1sZmlsZQ%3D%3D?line=27'>28</a>\u001b[0m \u001b[39mwith\u001b[39;00m \u001b[39mopen\u001b[39;49m(path_gt) \u001b[39mas\u001b[39;00m f:\n\u001b[0;32m     <a href='vscode-notebook-cell:/c%3A/Users/tinca/Desktop/cs%204775/final/4775%20Analysis.ipynb#W1sZmlsZQ%3D%3D?line=28'>29</a>\u001b[0m     \u001b[39mfor\u001b[39;00m line \u001b[39min\u001b[39;00m f\u001b[39m.\u001b[39mreadlines():\n\u001b[0;32m     <a href='vscode-notebook-cell:/c%3A/Users/tinca/Desktop/cs%204775/final/4775%20Analysis.ipynb#W1sZmlsZQ%3D%3D?line=29'>30</a>\u001b[0m         gt_lines\u001b[39m.\u001b[39mappend(line\u001b[39m.\u001b[39msplit(\u001b[39m\"\u001b[39m\u001b[39m\\n\u001b[39;00m\u001b[39m\"\u001b[39m)[\u001b[39m0\u001b[39m])\n",
      "\u001b[1;31mFileNotFoundError\u001b[0m: [Errno 2] No such file or directory: 'strain 17 annotations/17-cn.fasta'"
     ]
    }
   ],
   "source": [
    "# For biological data\n",
    "\n",
    "results,gt_intervals,gt_identities = [],[],[]\n",
    "\n",
    "path_results = 'intervals.txt'\n",
    "path_msa = 'data2/data2-msa.fasta'\n",
    "path_gt = 'strain 17 annotations/17-cn.fasta'\n",
    "path_gt_adjusted = 'data2/17-cn-adjusted.fasta' # Adjust to include any gaps from MSA\n",
    "with open(path_results) as f:\n",
    "    for line in f.readlines():\n",
    "        nums = line.split(\",\")\n",
    "        a,b = (int)(nums[0]),(int)(nums[1])\n",
    "        results.append((a,b))\n",
    "        \n",
    "counter_msa = 0\n",
    "counter_gt = 0\n",
    "\n",
    "gt_lines = []\n",
    "msa_lines = []\n",
    "    \n",
    "# Populating gt_lines\n",
    "with open(path_gt) as f:\n",
    "    for line in f.readlines():\n",
    "        gt_lines.append(line.split(\"\\n\")[0])\n",
    "\n",
    "# Populating msa_lines\n",
    "with open(path_msa) as f:\n",
    "    is_17 = False\n",
    "    for line in f.readlines():\n",
    "        if line.startswith(\">JN555585.1\"):\n",
    "            is_17 = True\n",
    "            continue\n",
    "        if line.startswith(\">\"):\n",
    "            is_17 = False\n",
    "            break\n",
    "        if is_17 == True:\n",
    "            msa_lines.append(line)\n",
    "\n",
    "gt_line_counter = 0\n",
    "gt_char_counter = 0\n",
    "\n",
    "adjusted_file = open(path_gt_adjusted,'w')\n",
    "\n",
    "for line in msa_lines:\n",
    "    msa_char_counter = 0\n",
    "    while msa_char_counter < len(line):\n",
    "        if line[msa_char_counter] == '\\n':\n",
    "            adjusted_file.write('\\n')\n",
    "        else:\n",
    "            adjusted_file.write(gt_lines[gt_line_counter][gt_char_counter])\n",
    "            if line[msa_char_counter] != '-':\n",
    "                if gt_char_counter == len(gt_lines[gt_line_counter]) - 1:\n",
    "                    gt_line_counter += 1\n",
    "                    gt_char_counter = 0\n",
    "                else:\n",
    "                    gt_char_counter += 1\n",
    "            \n",
    "        msa_char_counter += 1"
   ]
  },
  {
   "cell_type": "code",
   "execution_count": 90,
   "id": "236cfff1",
   "metadata": {},
   "outputs": [
    {
     "data": {
      "image/png": "[encoded data removed]",
      "text/plain": [
       "<Figure size 1440x144 with 1 Axes>"
      ]
     },
     "metadata": {
      "needs_background": "light"
     },
     "output_type": "display_data"
    }
   ],
   "source": [
    "# For synthetic data\n",
    "\n",
    "results,gt_intervals,gt_identities = [],[],[]\n",
    "\n",
    "path_results = '../Code/datasets/test1/viterbi-intervals-test1.txt'\n",
    "path_gt = '../Code/datasets/test1/test_bcdn.fasta'\n",
    "\n",
    "with open(path_results) as f:\n",
    "    for line in f.readlines():\n",
    "        nums = line.split(\",\")\n",
    "        a,b = (int)(nums[0]),(int)(nums[1])\n",
    "        results.append((a,b))\n",
    "        \n",
    "with open(path_gt) as f:\n",
    "    curr_identity = None\n",
    "    cumulative_count = 1\n",
    "    start = None\n",
    "    \n",
    "    for line in f.readlines():\n",
    "        seq = line.split(\"\\n\")[0]\n",
    "        \n",
    "        counter = 0\n",
    "        \n",
    "        while counter < len(seq):\n",
    "            if curr_identity == None:\n",
    "                curr_identity = seq[counter]\n",
    "                start = cumulative_count\n",
    "                \n",
    "            elif seq[counter] != curr_identity:\n",
    "                gt_intervals.append((start,cumulative_count-1))\n",
    "                gt_identities.append(curr_identity)\n",
    "                \n",
    "                curr_identity = seq[counter]\n",
    "                start = cumulative_count\n",
    "                \n",
    "            counter += 1\n",
    "            cumulative_count += 1\n",
    "            \n",
    "    gt_intervals.append((start,cumulative_count-1))\n",
    "    gt_identities.append(curr_identity)\n",
    "\n",
    "colors=['green','grey']\n",
    "#labels=dict({'B':0,'C':0,'D':0,'N':1})\n",
    "labels=dict({'C':0,'N':1})\n",
    "identities = ['coding','non-coding']\n",
    "\n",
    "fig,ax=plt.subplots(figsize=(20,2))\n",
    "for interval in results:\n",
    "    ax.hlines(.75,interval[0],interval[1],color=colors[0])\n",
    "    \n",
    "for i in range(len(gt_intervals)):\n",
    "    identity = labels[gt_identities[i]]\n",
    "    ax.hlines(.1+.1*identity,gt_intervals[i][0],gt_intervals[i][1],color=colors[identity])\n",
    "ax.set_ylim(0,1.2)\n",
    "#ax.set_xlim(-1,154000)\n",
    "\n",
    "for i in range(len(colors)):\n",
    "    ax.plot([],[],label=identities[i],color=colors[i])\n",
    "    \n",
    "ax.legend(frameon=False,ncol=4)\n",
    "plt.yticks([])\n",
    "plt.show()"
   ]
  },
  {
   "cell_type": "code",
   "execution_count": 102,
   "id": "85e1f4ab",
   "metadata": {},
   "outputs": [
    {
     "data": {
      "image/png": "[encoded data removed]",
      "text/plain": [
       "<Figure size 1440x144 with 1 Axes>"
      ]
     },
     "metadata": {
      "needs_background": "light"
     },
     "output_type": "display_data"
    }
   ],
   "source": [
    "# Visually showing results\n",
    "\n",
    "with open(path_gt_adjusted) as f:\n",
    "    curr_identity = None\n",
    "    cumulative_count = 1\n",
    "    start = None\n",
    "    \n",
    "    for line in f.readlines():\n",
    "        seq = line.split(\"\\n\")[0]\n",
    "        \n",
    "        counter = 0\n",
    "        \n",
    "        while counter < len(seq):\n",
    "            if curr_identity == None:\n",
    "                curr_identity = seq[counter]\n",
    "                start = cumulative_count\n",
    "                \n",
    "            elif seq[counter] != curr_identity:\n",
    "                gt_intervals.append((start,cumulative_count-1))\n",
    "                gt_identities.append(curr_identity)\n",
    "                \n",
    "                curr_identity = seq[counter]\n",
    "                start = cumulative_count\n",
    "                \n",
    "            counter += 1\n",
    "            cumulative_count += 1\n",
    "            \n",
    "    gt_intervals.append((start,cumulative_count-1))\n",
    "    gt_identities.append(curr_identity)\n",
    "\n",
    "colors=['green','grey']\n",
    "#labels=dict({'B':0,'C':0,'D':0,'N':1})\n",
    "labels=dict({'C':0,'N':1})\n",
    "identities = ['coding','non-coding']\n",
    "\n",
    "fig,ax=plt.subplots(figsize=(20,2))\n",
    "for interval in results:\n",
    "    ax.hlines(.75,interval[0],interval[1],color=colors[0])\n",
    "    \n",
    "for i in range(len(gt_intervals)):\n",
    "    identity = labels[gt_identities[i]]\n",
    "    ax.hlines(.1+.1*identity,gt_intervals[i][0],gt_intervals[i][1],color=colors[identity])\n",
    "ax.set_ylim(0,1.2)\n",
    "#ax.set_xlim(-1,154000)\n",
    "\n",
    "for i in range(len(colors)):\n",
    "    ax.plot([],[],label=identities[i],color=colors[i])\n",
    "    \n",
    "ax.legend(frameon=False,ncol=4)\n",
    "plt.yticks([])\n",
    "plt.show()"
   ]
  },
  {
   "cell_type": "code",
   "execution_count": 103,
   "id": "7ad9b6b5",
   "metadata": {},
   "outputs": [
    {
     "name": "stdout",
     "output_type": "stream",
     "text": [
      "138565 14201 288 62\n",
      "Sensitivity: 0.9979258640432688\n",
      "Specificity: 0.0043469115894271895\n",
      "Accuracy: 0.9053723973980512\n"
     ]
    }
   ],
   "source": [
    "# Calculating sensitivity, specificity, accuracy\n",
    "\n",
    "tp,tn,fp,fn = 0,0,0,0\n",
    "curr_results_interval = 0\n",
    "curr_gt_interval = 0\n",
    "\n",
    "for i in range(1,gt_intervals[-1][1]+1):\n",
    "    \n",
    "    if curr_results_interval < len(results)-1 and i == results[curr_results_interval+1][0]:\n",
    "        curr_results_interval += 1\n",
    "    if curr_gt_interval < len(gt_intervals)-1 and i == gt_intervals[curr_gt_interval+1][0]:\n",
    "        curr_gt_interval += 1\n",
    "        \n",
    "    if i >= results[curr_results_interval][0] and i <= results[curr_results_interval][1]: # algo says coding\n",
    "        if gt_identities[curr_gt_interval] == 'C':\n",
    "            tp += 1\n",
    "        else:\n",
    "            fp += 1\n",
    "    else: # algo says non-coding\n",
    "        if gt_identities[curr_gt_interval] == 'C':\n",
    "            fn += 1\n",
    "        else:\n",
    "            tn += 1\n",
    "\n",
    "print(tp,fp,fn,tn)\n",
    "sensitivity = tp/(tp+fn)\n",
    "specificity = tn/(tn+fp)\n",
    "accuracy = (tn+tp)/(tn+tp+fn+fp)\n",
    "\n",
    "print(f'Sensitivity: {sensitivity}\\nSpecificity: {specificity}\\nAccuracy: {accuracy}')"
   ]
  },
  {
   "cell_type": "code",
   "execution_count": null,
   "id": "e896f47f",
   "metadata": {},
   "outputs": [],
   "source": []
  }
 ],
 "metadata": {
  "kernelspec": {
   "display_name": "base",
   "language": "python",
   "name": "python3"
  },
  "language_info": {
   "codemirror_mode": {
    "name": "ipython",
    "version": 3
   },
   "file_extension": ".py",
   "mimetype": "text/x-python",
   "name": "python",
   "nbconvert_exporter": "python",
   "pygments_lexer": "ipython3",
   "version": "3.9.12"
  },
  "vscode": {
   "interpreter": {
    "hash": "982173e36a402c68b86b85ea085af816cf902e018c0206fcbfebf3fe3b3cb858"
   }
  }
 },
 "nbformat": 4,
 "nbformat_minor": 5
}
